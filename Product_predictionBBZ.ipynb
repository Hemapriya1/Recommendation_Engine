{
 "cells": [
  {
   "cell_type": "code",
   "execution_count": 1,
   "metadata": {},
   "outputs": [],
   "source": [
    "#import libraries\n",
    "import pandas as pd\n",
    "import numpy as np\n",
    "import random as rd\n",
    "import matplotlib.pyplot as plt"
   ]
  },
  {
   "cell_type": "code",
   "execution_count": 2,
   "metadata": {},
   "outputs": [
    {
     "data": {
      "text/html": [
       "<div>\n",
       "<style scoped>\n",
       "    .dataframe tbody tr th:only-of-type {\n",
       "        vertical-align: middle;\n",
       "    }\n",
       "\n",
       "    .dataframe tbody tr th {\n",
       "        vertical-align: top;\n",
       "    }\n",
       "\n",
       "    .dataframe thead th {\n",
       "        text-align: right;\n",
       "    }\n",
       "</style>\n",
       "<table border=\"1\" class=\"dataframe\">\n",
       "  <thead>\n",
       "    <tr style=\"text-align: right;\">\n",
       "      <th></th>\n",
       "      <th>ItemLookupcode</th>\n",
       "      <th>Product_Line</th>\n",
       "      <th>Item_description</th>\n",
       "      <th>C</th>\n",
       "      <th>G</th>\n",
       "      <th>Ke</th>\n",
       "      <th>Ko</th>\n",
       "      <th>N</th>\n",
       "      <th>O</th>\n",
       "      <th>V</th>\n",
       "      <th>...</th>\n",
       "      <th>Pasta and noodles</th>\n",
       "      <th>Ready to eat meals</th>\n",
       "      <th>Savoury and Salty Snacks</th>\n",
       "      <th>Spreads and Dips</th>\n",
       "      <th>Sweeteners</th>\n",
       "      <th>Supplements and body care</th>\n",
       "      <th>unique_customers</th>\n",
       "      <th>sales</th>\n",
       "      <th>units</th>\n",
       "      <th>sales_rank</th>\n",
       "    </tr>\n",
       "  </thead>\n",
       "  <tbody>\n",
       "    <tr>\n",
       "      <th>0</th>\n",
       "      <td>7817</td>\n",
       "      <td>Swerve - Ultimate Sugar Replacement (Foodservi...</td>\n",
       "      <td>Bulk Granular Sweetener</td>\n",
       "      <td>0</td>\n",
       "      <td>1</td>\n",
       "      <td>1</td>\n",
       "      <td>1</td>\n",
       "      <td>1</td>\n",
       "      <td>0</td>\n",
       "      <td>1</td>\n",
       "      <td>...</td>\n",
       "      <td>0</td>\n",
       "      <td>0</td>\n",
       "      <td>0</td>\n",
       "      <td>0</td>\n",
       "      <td>1</td>\n",
       "      <td>0</td>\n",
       "      <td>19</td>\n",
       "      <td>46168</td>\n",
       "      <td>347</td>\n",
       "      <td>1</td>\n",
       "    </tr>\n",
       "    <tr>\n",
       "      <th>1</th>\n",
       "      <td>2392</td>\n",
       "      <td>Nick's Sticks - 100% Grass-Fed Beef Sticks</td>\n",
       "      <td>Grass-Fed Nick's Sticks - Original Beef [25-Pack]</td>\n",
       "      <td>0</td>\n",
       "      <td>1</td>\n",
       "      <td>1</td>\n",
       "      <td>0</td>\n",
       "      <td>1</td>\n",
       "      <td>0</td>\n",
       "      <td>0</td>\n",
       "      <td>...</td>\n",
       "      <td>0</td>\n",
       "      <td>0</td>\n",
       "      <td>1</td>\n",
       "      <td>0</td>\n",
       "      <td>0</td>\n",
       "      <td>0</td>\n",
       "      <td>36</td>\n",
       "      <td>34949</td>\n",
       "      <td>465</td>\n",
       "      <td>2</td>\n",
       "    </tr>\n",
       "    <tr>\n",
       "      <th>2</th>\n",
       "      <td>8679</td>\n",
       "      <td>Carbquik</td>\n",
       "      <td>Carbquik - Complete Biscuit and Baking Mix</td>\n",
       "      <td>0</td>\n",
       "      <td>0</td>\n",
       "      <td>1</td>\n",
       "      <td>1</td>\n",
       "      <td>0</td>\n",
       "      <td>0</td>\n",
       "      <td>0</td>\n",
       "      <td>...</td>\n",
       "      <td>0</td>\n",
       "      <td>0</td>\n",
       "      <td>0</td>\n",
       "      <td>0</td>\n",
       "      <td>0</td>\n",
       "      <td>0</td>\n",
       "      <td>45</td>\n",
       "      <td>27776</td>\n",
       "      <td>2057</td>\n",
       "      <td>3</td>\n",
       "    </tr>\n",
       "    <tr>\n",
       "      <th>3</th>\n",
       "      <td>2920</td>\n",
       "      <td>SmartSweets - Stevia-Sweetened Gummy Bears</td>\n",
       "      <td>Stevia-Sweetened Sweet Fish - Berry [12-Pack]</td>\n",
       "      <td>1</td>\n",
       "      <td>1</td>\n",
       "      <td>1</td>\n",
       "      <td>0</td>\n",
       "      <td>1</td>\n",
       "      <td>0</td>\n",
       "      <td>1</td>\n",
       "      <td>...</td>\n",
       "      <td>0</td>\n",
       "      <td>0</td>\n",
       "      <td>0</td>\n",
       "      <td>0</td>\n",
       "      <td>0</td>\n",
       "      <td>0</td>\n",
       "      <td>44</td>\n",
       "      <td>22389</td>\n",
       "      <td>746</td>\n",
       "      <td>4</td>\n",
       "    </tr>\n",
       "    <tr>\n",
       "      <th>4</th>\n",
       "      <td>912</td>\n",
       "      <td>Anthony's Goods</td>\n",
       "      <td>Organic Oat Fibre</td>\n",
       "      <td>0</td>\n",
       "      <td>1</td>\n",
       "      <td>1</td>\n",
       "      <td>0</td>\n",
       "      <td>1</td>\n",
       "      <td>1</td>\n",
       "      <td>1</td>\n",
       "      <td>...</td>\n",
       "      <td>0</td>\n",
       "      <td>0</td>\n",
       "      <td>0</td>\n",
       "      <td>0</td>\n",
       "      <td>0</td>\n",
       "      <td>0</td>\n",
       "      <td>50</td>\n",
       "      <td>21727</td>\n",
       "      <td>2171</td>\n",
       "      <td>5</td>\n",
       "    </tr>\n",
       "  </tbody>\n",
       "</table>\n",
       "<p>5 rows × 39 columns</p>\n",
       "</div>"
      ],
      "text/plain": [
       "  ItemLookupcode                                       Product_Line  \\\n",
       "0           7817  Swerve - Ultimate Sugar Replacement (Foodservi...   \n",
       "1           2392         Nick's Sticks - 100% Grass-Fed Beef Sticks   \n",
       "2           8679                                           Carbquik   \n",
       "3           2920         SmartSweets - Stevia-Sweetened Gummy Bears   \n",
       "4            912                                    Anthony's Goods   \n",
       "\n",
       "                                   Item_description   C  G  Ke  Ko  N  O  V  \\\n",
       "0                            Bulk Granular Sweetener  0  1   1   1  1  0  1   \n",
       "1  Grass-Fed Nick's Sticks - Original Beef [25-Pack]  0  1   1   0  1  0  0   \n",
       "2         Carbquik - Complete Biscuit and Baking Mix  0  0   1   1  0  0  0   \n",
       "3      Stevia-Sweetened Sweet Fish - Berry [12-Pack]  1  1   1   0  1  0  1   \n",
       "4                                  Organic Oat Fibre  0  1   1   0  1  1  1   \n",
       "\n",
       "   ...  Pasta and noodles  Ready to eat meals   Savoury and Salty Snacks  \\\n",
       "0  ...                  0                    0                         0   \n",
       "1  ...                  0                    0                         1   \n",
       "2  ...                  0                    0                         0   \n",
       "3  ...                  0                    0                         0   \n",
       "4  ...                  0                    0                         0   \n",
       "\n",
       "   Spreads and Dips  Sweeteners  Supplements and body care   unique_customers  \\\n",
       "0                 0           1                           0                19   \n",
       "1                 0           0                           0                36   \n",
       "2                 0           0                           0                45   \n",
       "3                 0           0                           0                44   \n",
       "4                 0           0                           0                50   \n",
       "\n",
       "   sales  units  sales_rank  \n",
       "0  46168    347           1  \n",
       "1  34949    465           2  \n",
       "2  27776   2057           3  \n",
       "3  22389    746           4  \n",
       "4  21727   2171           5  \n",
       "\n",
       "[5 rows x 39 columns]"
      ]
     },
     "execution_count": 2,
     "metadata": {},
     "output_type": "execute_result"
    }
   ],
   "source": [
    "data = pd.read_csv('product_features_rankBBZ.csv')\n",
    "data.head()"
   ]
  },
  {
   "cell_type": "code",
   "execution_count": 3,
   "metadata": {},
   "outputs": [
    {
     "data": {
      "image/png": "[encoded data removed]",
      "text/plain": [
       "<Figure size 432x288 with 1 Axes>"
      ]
     },
     "metadata": {
      "needs_background": "light"
     },
     "output_type": "display_data"
    }
   ],
   "source": [
    "X = data[[\"sales\",\"units\"]]\n",
    "#Visualise data points\n",
    "plt.scatter(X[\"units\"],X[\"sales\"],c='black')\n",
    "plt.xlabel('Units')\n",
    "plt.ylabel('Sales (In Thousands)')\n",
    "plt.show()"
   ]
  },
  {
   "cell_type": "code",
   "execution_count": 4,
   "metadata": {},
   "outputs": [
    {
     "data": {
      "image/png": "[encoded data removed]",
      "text/plain": [
       "<Figure size 432x288 with 1 Axes>"
      ]
     },
     "metadata": {
      "needs_background": "light"
     },
     "output_type": "display_data"
    }
   ],
   "source": [
    "#Steps 1 and 2 of K-Means were about choosing the number of clusters (k) and selecting random centroids for \n",
    "#each cluster. We will pick 3 clusters and then select random observations from the data as the centroids:\n",
    "\n",
    "#number of clusters\n",
    "K=3\n",
    "\n",
    "# Select random observation as centroids\n",
    "Centroids = (X.sample(n=K))\n",
    "plt.scatter(X[\"units\"],X[\"sales\"],c='black')\n",
    "plt.scatter(Centroids[\"units\"],Centroids[\"sales\"],c='red')\n",
    "plt.xlabel('Units')\n",
    "plt.ylabel('Sales (In Thousands)')\n",
    "plt.show()"
   ]
  },
  {
   "cell_type": "code",
   "execution_count": 5,
   "metadata": {},
   "outputs": [
    {
     "name": "stderr",
     "output_type": "stream",
     "text": [
      "/Users/hemapriya/opt/anaconda3/lib/python3.7/site-packages/ipykernel_launcher.py:14: SettingWithCopyWarning: \n",
      "A value is trying to be set on a copy of a slice from a DataFrame.\n",
      "Try using .loc[row_indexer,col_indexer] = value instead\n",
      "\n",
      "See the caveats in the documentation: https://pandas.pydata.org/pandas-docs/stable/user_guide/indexing.html#returning-a-view-versus-a-copy\n",
      "  \n",
      "/Users/hemapriya/opt/anaconda3/lib/python3.7/site-packages/ipykernel_launcher.py:26: SettingWithCopyWarning: \n",
      "A value is trying to be set on a copy of a slice from a DataFrame.\n",
      "Try using .loc[row_indexer,col_indexer] = value instead\n",
      "\n",
      "See the caveats in the documentation: https://pandas.pydata.org/pandas-docs/stable/user_guide/indexing.html#returning-a-view-versus-a-copy\n"
     ]
    },
    {
     "name": "stdout",
     "output_type": "stream",
     "text": [
      "5250.904337854666\n",
      "4079.04013001906\n",
      "3797.274392054858\n",
      "2085.0473954176837\n",
      "1461.492295764586\n",
      "2115.1703535040174\n",
      "1280.2748549034407\n",
      "1074.5914057011878\n",
      "1505.7095085248363\n",
      "130.99964519082576\n",
      "676.9855212355246\n",
      "928.118588879072\n",
      "0.0\n"
     ]
    }
   ],
   "source": [
    "diff = 1\n",
    "j=0\n",
    "\n",
    "while(diff!=0):\n",
    "    XD=X\n",
    "    i=1\n",
    "    for index1,row_c in Centroids.iterrows():\n",
    "        ED=[]\n",
    "        for index2,row_d in XD.iterrows():\n",
    "            d1=(row_c[\"units\"]-row_d[\"units\"])**2\n",
    "            d2=(row_c[\"sales\"]-row_d[\"sales\"])**2\n",
    "            d=np.sqrt(d1+d2)\n",
    "            ED.append(d)\n",
    "        X[i]=ED\n",
    "        i=i+1\n",
    "\n",
    "    C=[]\n",
    "    for index,row in X.iterrows():\n",
    "        min_dist=row[1]\n",
    "        pos=1\n",
    "        for i in range(K):\n",
    "            if row[i+1] < min_dist:\n",
    "                min_dist = row[i+1]\n",
    "                pos=i+1\n",
    "        C.append(pos)\n",
    "    X[\"Cluster\"]=C\n",
    "    Centroids_new = X.groupby([\"Cluster\"]).mean()[[\"sales\",\"units\"]]\n",
    "    if j == 0:\n",
    "        diff=1\n",
    "        j=j+1\n",
    "    else:\n",
    "        diff = (Centroids_new['sales'] - Centroids['sales']).sum() + (Centroids_new['units'] - Centroids['units']).sum()\n",
    "        print(diff.sum())\n",
    "    Centroids = X.groupby([\"Cluster\"]).mean()[[\"sales\",\"units\"]]"
   ]
  },
  {
   "cell_type": "code",
   "execution_count": 6,
   "metadata": {},
   "outputs": [
    {
     "data": {
      "image/png": "[encoded data removed]",
      "text/plain": [
       "<Figure size 432x288 with 1 Axes>"
      ]
     },
     "metadata": {
      "needs_background": "light"
     },
     "output_type": "display_data"
    }
   ],
   "source": [
    "color=['blue','green','purple']\n",
    "for k in range(K):\n",
    "    data=X[X[\"Cluster\"]==k+1]\n",
    "    plt.scatter(data[\"units\"],data[\"sales\"],c=color[k])\n",
    "plt.scatter(Centroids[\"units\"],Centroids[\"sales\"],c='red')\n",
    "plt.xlabel('units')\n",
    "plt.ylabel('sales (In Thousands)')\n",
    "plt.show()"
   ]
  },
  {
   "cell_type": "code",
   "execution_count": null,
   "metadata": {},
   "outputs": [],
   "source": []
  }
 ],
 "metadata": {
  "kernelspec": {
   "display_name": "Python 3",
   "language": "python",
   "name": "python3"
  },
  "language_info": {
   "codemirror_mode": {
    "name": "ipython",
    "version": 3
   },
   "file_extension": ".py",
   "mimetype": "text/x-python",
   "name": "python",
   "nbconvert_exporter": "python",
   "pygments_lexer": "ipython3",
   "version": "3.7.6"
  }
 },
 "nbformat": 4,
 "nbformat_minor": 4
}
