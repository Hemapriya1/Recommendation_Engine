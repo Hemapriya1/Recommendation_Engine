{
 "cells": [
  {
   "cell_type": "code",
   "execution_count": 1,
   "metadata": {},
   "outputs": [],
   "source": [
    "#import libraries\n",
    "import pandas as pd\n",
    "import numpy as np\n",
    "import random as rd\n",
    "import matplotlib.pyplot as plt"
   ]
  },
  {
   "cell_type": "code",
   "execution_count": 2,
   "metadata": {},
   "outputs": [
    {
     "data": {
      "text/html": [
       "<div>\n",
       "<style scoped>\n",
       "    .dataframe tbody tr th:only-of-type {\n",
       "        vertical-align: middle;\n",
       "    }\n",
       "\n",
       "    .dataframe tbody tr th {\n",
       "        vertical-align: top;\n",
       "    }\n",
       "\n",
       "    .dataframe thead th {\n",
       "        text-align: right;\n",
       "    }\n",
       "</style>\n",
       "<table border=\"1\" class=\"dataframe\">\n",
       "  <thead>\n",
       "    <tr style=\"text-align: right;\">\n",
       "      <th></th>\n",
       "      <th>ItemLookupcode</th>\n",
       "      <th>Product_Line</th>\n",
       "      <th>Item_description</th>\n",
       "      <th>C</th>\n",
       "      <th>G</th>\n",
       "      <th>Ke</th>\n",
       "      <th>Ko</th>\n",
       "      <th>N</th>\n",
       "      <th>O</th>\n",
       "      <th>V</th>\n",
       "      <th>...</th>\n",
       "      <th>Pasta and noodles</th>\n",
       "      <th>Ready to eat meals</th>\n",
       "      <th>Savoury and Salty Snacks</th>\n",
       "      <th>Spreads and Dips</th>\n",
       "      <th>Sweeteners</th>\n",
       "      <th>Supplements and body care</th>\n",
       "      <th>unique_customers</th>\n",
       "      <th>sales</th>\n",
       "      <th>units</th>\n",
       "      <th>sales_rank</th>\n",
       "    </tr>\n",
       "  </thead>\n",
       "  <tbody>\n",
       "    <tr>\n",
       "      <th>0</th>\n",
       "      <td>85</td>\n",
       "      <td>Nutilight - No Sugar Added Sweet Nut Spreads</td>\n",
       "      <td>Hazelnut Spread with Cocoa</td>\n",
       "      <td>0</td>\n",
       "      <td>1</td>\n",
       "      <td>1</td>\n",
       "      <td>1</td>\n",
       "      <td>1</td>\n",
       "      <td>0</td>\n",
       "      <td>1</td>\n",
       "      <td>...</td>\n",
       "      <td>0</td>\n",
       "      <td>0</td>\n",
       "      <td>0</td>\n",
       "      <td>1</td>\n",
       "      <td>0</td>\n",
       "      <td>0</td>\n",
       "      <td>157</td>\n",
       "      <td>345996</td>\n",
       "      <td>45038</td>\n",
       "      <td>1</td>\n",
       "    </tr>\n",
       "    <tr>\n",
       "      <th>1</th>\n",
       "      <td>8259</td>\n",
       "      <td>Swerve - Ultimate Sugar Replacement</td>\n",
       "      <td>Icing Sugar</td>\n",
       "      <td>0</td>\n",
       "      <td>1</td>\n",
       "      <td>1</td>\n",
       "      <td>1</td>\n",
       "      <td>1</td>\n",
       "      <td>0</td>\n",
       "      <td>1</td>\n",
       "      <td>...</td>\n",
       "      <td>0</td>\n",
       "      <td>0</td>\n",
       "      <td>0</td>\n",
       "      <td>0</td>\n",
       "      <td>1</td>\n",
       "      <td>0</td>\n",
       "      <td>158</td>\n",
       "      <td>230867</td>\n",
       "      <td>30509</td>\n",
       "      <td>2</td>\n",
       "    </tr>\n",
       "    <tr>\n",
       "      <th>2</th>\n",
       "      <td>180</td>\n",
       "      <td>Swerve - Ultimate Sugar Replacement (Foodservi...</td>\n",
       "      <td>Bulk Icing Sugar Sweetener</td>\n",
       "      <td>0</td>\n",
       "      <td>1</td>\n",
       "      <td>1</td>\n",
       "      <td>1</td>\n",
       "      <td>1</td>\n",
       "      <td>0</td>\n",
       "      <td>1</td>\n",
       "      <td>...</td>\n",
       "      <td>0</td>\n",
       "      <td>0</td>\n",
       "      <td>0</td>\n",
       "      <td>0</td>\n",
       "      <td>1</td>\n",
       "      <td>0</td>\n",
       "      <td>71</td>\n",
       "      <td>225078</td>\n",
       "      <td>1590</td>\n",
       "      <td>3</td>\n",
       "    </tr>\n",
       "    <tr>\n",
       "      <th>3</th>\n",
       "      <td>8260</td>\n",
       "      <td>Swerve - Ultimate Sugar Replacement</td>\n",
       "      <td>Granular</td>\n",
       "      <td>0</td>\n",
       "      <td>1</td>\n",
       "      <td>1</td>\n",
       "      <td>1</td>\n",
       "      <td>1</td>\n",
       "      <td>0</td>\n",
       "      <td>1</td>\n",
       "      <td>...</td>\n",
       "      <td>0</td>\n",
       "      <td>0</td>\n",
       "      <td>0</td>\n",
       "      <td>0</td>\n",
       "      <td>1</td>\n",
       "      <td>0</td>\n",
       "      <td>150</td>\n",
       "      <td>222887</td>\n",
       "      <td>29600</td>\n",
       "      <td>4</td>\n",
       "    </tr>\n",
       "    <tr>\n",
       "      <th>4</th>\n",
       "      <td>8532</td>\n",
       "      <td>Joseph's Bakery</td>\n",
       "      <td>Pita</td>\n",
       "      <td>0</td>\n",
       "      <td>0</td>\n",
       "      <td>0</td>\n",
       "      <td>1</td>\n",
       "      <td>0</td>\n",
       "      <td>0</td>\n",
       "      <td>0</td>\n",
       "      <td>...</td>\n",
       "      <td>0</td>\n",
       "      <td>0</td>\n",
       "      <td>0</td>\n",
       "      <td>0</td>\n",
       "      <td>0</td>\n",
       "      <td>0</td>\n",
       "      <td>124</td>\n",
       "      <td>207795</td>\n",
       "      <td>70622</td>\n",
       "      <td>5</td>\n",
       "    </tr>\n",
       "  </tbody>\n",
       "</table>\n",
       "<p>5 rows × 39 columns</p>\n",
       "</div>"
      ],
      "text/plain": [
       "  ItemLookupcode                                       Product_Line  \\\n",
       "0             85       Nutilight - No Sugar Added Sweet Nut Spreads   \n",
       "1           8259                Swerve - Ultimate Sugar Replacement   \n",
       "2            180  Swerve - Ultimate Sugar Replacement (Foodservi...   \n",
       "3           8260                Swerve - Ultimate Sugar Replacement   \n",
       "4           8532                                    Joseph's Bakery   \n",
       "\n",
       "            Item_description   C  G  Ke  Ko  N  O  V  ...  Pasta and noodles  \\\n",
       "0  Hazelnut Spread with Cocoa  0  1   1   1  1  0  1  ...                  0   \n",
       "1                 Icing Sugar  0  1   1   1  1  0  1  ...                  0   \n",
       "2  Bulk Icing Sugar Sweetener  0  1   1   1  1  0  1  ...                  0   \n",
       "3                    Granular  0  1   1   1  1  0  1  ...                  0   \n",
       "4                        Pita  0  0   0   1  0  0  0  ...                  0   \n",
       "\n",
       "   Ready to eat meals   Savoury and Salty Snacks  Spreads and Dips  \\\n",
       "0                    0                         0                 1   \n",
       "1                    0                         0                 0   \n",
       "2                    0                         0                 0   \n",
       "3                    0                         0                 0   \n",
       "4                    0                         0                 0   \n",
       "\n",
       "   Sweeteners  Supplements and body care   unique_customers   sales  units  \\\n",
       "0           0                           0               157  345996  45038   \n",
       "1           1                           0               158  230867  30509   \n",
       "2           1                           0                71  225078   1590   \n",
       "3           1                           0               150  222887  29600   \n",
       "4           0                           0               124  207795  70622   \n",
       "\n",
       "   sales_rank  \n",
       "0           1  \n",
       "1           2  \n",
       "2           3  \n",
       "3           4  \n",
       "4           5  \n",
       "\n",
       "[5 rows x 39 columns]"
      ]
     },
     "execution_count": 2,
     "metadata": {},
     "output_type": "execute_result"
    }
   ],
   "source": [
    "data = pd.read_csv('product_features_rank_MHQ.csv')\n",
    "data.head()"
   ]
  },
  {
   "cell_type": "code",
   "execution_count": 3,
   "metadata": {},
   "outputs": [
    {
     "data": {
      "image/png": "[encoded data removed]",
      "text/plain": [
       "<Figure size 432x288 with 1 Axes>"
      ]
     },
     "metadata": {
      "needs_background": "light"
     },
     "output_type": "display_data"
    }
   ],
   "source": [
    "X = data[[\"sales\",\"units\"]]\n",
    "#Visualise data points\n",
    "plt.scatter(X[\"units\"],X[\"sales\"],c='black')\n",
    "plt.xlabel('Units')\n",
    "plt.ylabel('Sales (In Thousands)')\n",
    "plt.show()"
   ]
  },
  {
   "cell_type": "code",
   "execution_count": 4,
   "metadata": {},
   "outputs": [
    {
     "data": {
      "image/png": "[encoded data removed]",
      "text/plain": [
       "<Figure size 432x288 with 1 Axes>"
      ]
     },
     "metadata": {
      "needs_background": "light"
     },
     "output_type": "display_data"
    }
   ],
   "source": [
    "#Steps 1 and 2 of K-Means were about choosing the number of clusters (k) and selecting random centroids for \n",
    "#each cluster. We will pick 3 clusters and then select random observations from the data as the centroids:\n",
    "\n",
    "#number of clusters\n",
    "K=3\n",
    "\n",
    "# Select random observation as centroids\n",
    "Centroids = (X.sample(n=K))\n",
    "plt.scatter(X[\"units\"],X[\"sales\"],c='black')\n",
    "plt.scatter(Centroids[\"units\"],Centroids[\"sales\"],c='red')\n",
    "plt.xlabel('Units')\n",
    "plt.ylabel('Sales (In Thousands)')\n",
    "plt.show()"
   ]
  },
  {
   "cell_type": "code",
   "execution_count": 5,
   "metadata": {},
   "outputs": [
    {
     "name": "stderr",
     "output_type": "stream",
     "text": [
      "/Users/hemapriya/opt/anaconda3/lib/python3.7/site-packages/ipykernel_launcher.py:14: SettingWithCopyWarning: \n",
      "A value is trying to be set on a copy of a slice from a DataFrame.\n",
      "Try using .loc[row_indexer,col_indexer] = value instead\n",
      "\n",
      "See the caveats in the documentation: https://pandas.pydata.org/pandas-docs/stable/user_guide/indexing.html#returning-a-view-versus-a-copy\n",
      "  \n",
      "/Users/hemapriya/opt/anaconda3/lib/python3.7/site-packages/ipykernel_launcher.py:26: SettingWithCopyWarning: \n",
      "A value is trying to be set on a copy of a slice from a DataFrame.\n",
      "Try using .loc[row_indexer,col_indexer] = value instead\n",
      "\n",
      "See the caveats in the documentation: https://pandas.pydata.org/pandas-docs/stable/user_guide/indexing.html#returning-a-view-versus-a-copy\n"
     ]
    },
    {
     "name": "stdout",
     "output_type": "stream",
     "text": [
      "45640.969340163385\n",
      "27956.851604541844\n",
      "33292.597135783464\n",
      "21491.69597814633\n",
      "15112.396018197433\n",
      "15913.261793394482\n",
      "22771.536768845093\n",
      "32445.968188679864\n",
      "19875.256722333128\n",
      "11729.59120818758\n",
      "10212.650311787616\n",
      "10174.556330384257\n",
      "1025.9131139311137\n",
      "0.0\n"
     ]
    }
   ],
   "source": [
    "diff = 1\n",
    "j=0\n",
    "\n",
    "while(diff!=0):\n",
    "    XD=X\n",
    "    i=1\n",
    "    for index1,row_c in Centroids.iterrows():\n",
    "        ED=[]\n",
    "        for index2,row_d in XD.iterrows():\n",
    "            d1=(row_c[\"units\"]-row_d[\"units\"])**2\n",
    "            d2=(row_c[\"sales\"]-row_d[\"sales\"])**2\n",
    "            d=np.sqrt(d1+d2)\n",
    "            ED.append(d)\n",
    "        X[i]=ED\n",
    "        i=i+1\n",
    "\n",
    "    C=[]\n",
    "    for index,row in X.iterrows():\n",
    "        min_dist=row[1]\n",
    "        pos=1\n",
    "        for i in range(K):\n",
    "            if row[i+1] < min_dist:\n",
    "                min_dist = row[i+1]\n",
    "                pos=i+1\n",
    "        C.append(pos)\n",
    "    X[\"Cluster\"]=C\n",
    "    Centroids_new = X.groupby([\"Cluster\"]).mean()[[\"sales\",\"units\"]]\n",
    "    if j == 0:\n",
    "        diff=1\n",
    "        j=j+1\n",
    "    else:\n",
    "        diff = (Centroids_new['sales'] - Centroids['sales']).sum() + (Centroids_new['units'] - Centroids['units']).sum()\n",
    "        print(diff.sum())\n",
    "    Centroids = X.groupby([\"Cluster\"]).mean()[[\"sales\",\"units\"]]"
   ]
  },
  {
   "cell_type": "code",
   "execution_count": 6,
   "metadata": {},
   "outputs": [
    {
     "data": {
      "image/png": "[encoded data removed]",
      "text/plain": [
       "<Figure size 432x288 with 1 Axes>"
      ]
     },
     "metadata": {
      "needs_background": "light"
     },
     "output_type": "display_data"
    }
   ],
   "source": [
    "color=['blue','green','purple']\n",
    "for k in range(K):\n",
    "    data=X[X[\"Cluster\"]==k+1]\n",
    "    plt.scatter(data[\"units\"],data[\"sales\"],c=color[k])\n",
    "plt.scatter(Centroids[\"units\"],Centroids[\"sales\"],c='red')\n",
    "plt.xlabel('units')\n",
    "plt.ylabel('sales (In Thousands)')\n",
    "plt.show()"
   ]
  },
  {
   "cell_type": "code",
   "execution_count": null,
   "metadata": {},
   "outputs": [],
   "source": []
  }
 ],
 "metadata": {
  "kernelspec": {
   "display_name": "Python 3",
   "language": "python",
   "name": "python3"
  },
  "language_info": {
   "codemirror_mode": {
    "name": "ipython",
    "version": 3
   },
   "file_extension": ".py",
   "mimetype": "text/x-python",
   "name": "python",
   "nbconvert_exporter": "python",
   "pygments_lexer": "ipython3",
   "version": "3.7.6"
  }
 },
 "nbformat": 4,
 "nbformat_minor": 4
}
